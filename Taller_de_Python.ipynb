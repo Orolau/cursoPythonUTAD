{
 "cells": [
  {
   "cell_type": "markdown",
   "metadata": {},
   "source": [
    "# Imprimir datos por pantalla \n",
    "Función print()"
   ]
  },
  {
   "cell_type": "code",
   "execution_count": 1,
   "metadata": {
    "colab": {
     "base_uri": "https://localhost:8080/"
    },
    "id": "36vdi2rBFbBu",
    "outputId": "3f9ed766-1e5a-42a2-ac4e-c29572653f10"
   },
   "outputs": [
    {
     "name": "stdout",
     "output_type": "stream",
     "text": [
      "Hola mundo\n"
     ]
    }
   ],
   "source": [
    "print(\"Hola mundo\")"
   ]
  },
  {
   "cell_type": "markdown",
   "metadata": {
    "id": "rVeAsd7yG8j3"
   },
   "source": [
    "# Variables\n",
    "Las variables son como cajas donde guardamos información. Sus valores pueden cambiar durante la ejecución del programa. \n",
    "Tipos:\n",
    "1. Enteros -> int\n",
    "2. Decimales -> float\n",
    "3. Cadenas de texto -> str \n",
    "4. Booleanos -> bool \n"
   ]
  },
  {
   "cell_type": "code",
   "execution_count": 2,
   "metadata": {
    "colab": {
     "base_uri": "https://localhost:8080/"
    },
    "id": "C0zRgnlNHGd2",
    "outputId": "4a0f0e48-865b-4df8-c859-9fb471915dd5"
   },
   "outputs": [
    {
     "name": "stdout",
     "output_type": "stream",
     "text": [
      "1\n"
     ]
    }
   ],
   "source": [
    "# Variables enteras\n",
    "\n",
    "variable = 1\n",
    "print(variable)\n"
   ]
  },
  {
   "cell_type": "code",
   "execution_count": null,
   "metadata": {},
   "outputs": [
    {
     "name": "stdout",
     "output_type": "stream",
     "text": [
      "Sergio\n"
     ]
    }
   ],
   "source": [
    "variable2 = \"Laura\"\n",
    "print(variable2)"
   ]
  },
  {
   "cell_type": "code",
   "execution_count": null,
   "metadata": {},
   "outputs": [
    {
     "name": "stdout",
     "output_type": "stream",
     "text": [
      "Soy Sergio Mahia\n"
     ]
    }
   ],
   "source": [
    "miNombre = \"Laura\"\n",
    "miApellido = \"Álvarez\"\n",
    "\n",
    "print(\"Soy \"+miNombre+\" \"+miApellido)"
   ]
  },
  {
   "cell_type": "code",
   "execution_count": 5,
   "metadata": {},
   "outputs": [
    {
     "name": "stdout",
     "output_type": "stream",
     "text": [
      "33\n"
     ]
    }
   ],
   "source": [
    "numero = 33\n",
    "\n",
    "# NO FUNCIONA -> print(numero)\n",
    "\n",
    "print(str(numero))"
   ]
  },
  {
   "cell_type": "markdown",
   "metadata": {
    "id": "Mvl9-FOSJd8P"
   },
   "source": [
    "## Ejercicio 1 :\n",
    "\n",
    "Crear un ejemplo de presentacion:\n",
    "\n",
    "\"Mi nombre es: Laura\"\n",
    "\"Tengo 20 años\"\n",
    "\n",
    "crear una variable nombre = \"Laura\" y edad = 20"
   ]
  },
  {
   "cell_type": "code",
   "execution_count": 6,
   "metadata": {
    "colab": {
     "base_uri": "https://localhost:8080/"
    },
    "id": "Sms4RAB6J8E5",
    "outputId": "59517b07-3cb6-47c1-e785-c9a50ac2134b"
   },
   "outputs": [
    {
     "name": "stdout",
     "output_type": "stream",
     "text": [
      "Mi nombre es: Sergio y tengo 21 años\n"
     ]
    }
   ],
   "source": []
  },
  {
   "cell_type": "markdown",
   "metadata": {
    "id": "AFwQTaa4MvmK"
   },
   "source": [
    "## Operadores"
   ]
  },
  {
   "cell_type": "markdown",
   "metadata": {},
   "source": [
    " ## Operadores comparación"
   ]
  },
  {
   "cell_type": "code",
   "execution_count": null,
   "metadata": {
    "colab": {
     "base_uri": "https://localhost:8080/"
    },
    "id": "eT_9ZuZXMvOc",
    "outputId": "3cf416ff-73fd-41b3-c4a5-636921e00efc"
   },
   "outputs": [
    {
     "name": "stdout",
     "output_type": "stream",
     "text": [
      "False\n",
      "6\n"
     ]
    }
   ],
   "source": [
    "numero1 = 1\n",
    "numero2 = 5\n",
    "\n",
    "\n",
    "print(numero1 > numero2)\n",
    "print(numero1 >= numero2)\n",
    "print(numero1 < numero2)\n",
    "print(numero1 <= numero2)\n",
    "print(numero1 == numero2)\n",
    "print(numero1 != numero2)"
   ]
  },
  {
   "cell_type": "markdown",
   "metadata": {},
   "source": [
    "## Operadores lógicos"
   ]
  },
  {
   "cell_type": "code",
   "execution_count": null,
   "metadata": {},
   "outputs": [],
   "source": [
    "verdadero = True\n",
    "falso = False\n",
    "\n",
    "#Operador 'and' o && --> equivale a 'y'\n",
    "print(verdadero && verdadero)\n",
    "print(verdadero && falso)\n",
    "print(falso && verdadero)\n",
    "print(falso && falso)\n",
    "\n",
    "#Operador 'or' o || --> equivale a 'o'\n",
    "print(verdadero || verdadero)\n",
    "print(verdadero || falso)\n",
    "print(falso || verdadero)\n",
    "print(falso || falso)"
   ]
  },
  {
   "cell_type": "markdown",
   "metadata": {},
   "source": [
    "## Operadores mátemáticos básicos"
   ]
  },
  {
   "cell_type": "code",
   "execution_count": null,
   "metadata": {},
   "outputs": [
    {
     "name": "stdout",
     "output_type": "stream",
     "text": [
      "-4\n",
      "5\n",
      "0.2\n"
     ]
    }
   ],
   "source": [
    "numero1 = 1\n",
    "numero2 = 5\n",
    "numero3 = 2\n",
    "\n",
    "# Suma \n",
    "print(numero1 + numero2)\n",
    "\n",
    "# Resta\n",
    "print(numero1 - numero2)\n",
    "\n",
    "# Multiplicacion\n",
    "print(numero1 * numero2)\n",
    "\n",
    "#Division\n",
    "print(numero1 / numero2)\n",
    "\n",
    "# Potencia\n",
    "print(numero3 ** numero2)\n",
    "\n",
    "# Módulo --> es el resto de una división\n",
    "#   Por ejemplo: el módulo de 5 entre 2 es 1\n",
    "print(numero2 % numero3)"
   ]
  },
  {
   "cell_type": "markdown",
   "metadata": {
    "id": "9vlVkSIRNrli"
   },
   "source": [
    "## Input\n",
    "**Solicita datos al usuario de nuestro programa**\n",
    "Cuando el programa se encuentra con un input, muestra el mensaje especificado dentro de los paréntesis y se queda esperando a que el usuario introduzca sus datos y pulso 'Enter'"
   ]
  },
  {
   "cell_type": "code",
   "execution_count": 9,
   "metadata": {
    "colab": {
     "base_uri": "https://localhost:8080/"
    },
    "id": "oytfv6gzNstJ",
    "outputId": "24bed0d0-8d98-4a71-b194-35806df71d80"
   },
   "outputs": [
    {
     "name": "stdout",
     "output_type": "stream",
     "text": [
      "Dime tu nombre: Sergio\n"
     ]
    },
    {
     "name": "stdout",
     "output_type": "stream",
     "text": [
      "Sergio\n"
     ]
    }
   ],
   "source": [
    "nombre = input(\"Dime tu nombre:\")\n",
    "\n",
    "print(nombre)"
   ]
  },
  {
   "cell_type": "markdown",
   "metadata": {
    "id": "qC5f1jNDOxmg"
   },
   "source": [
    "## Ejercicio 2:\n",
    "\n",
    "Pedir el nombre y la edad al usuario y mostralo por la consola.\n",
    "\n",
    "\"Dime tu nombre:\" Laura\n",
    "\"Dime tu edad:\" 20\n",
    "\n",
    "\"Tu nombre es: Laura\"\n",
    "\"Y tienes 30 años\""
   ]
  },
  {
   "cell_type": "code",
   "execution_count": 10,
   "metadata": {
    "colab": {
     "base_uri": "https://localhost:8080/"
    },
    "id": "1JiSVs1EPGT3",
    "outputId": "57d6616a-abdb-458d-fb62-5d294aac5cf1"
   },
   "outputs": [
    {
     "name": "stdout",
     "output_type": "stream",
     "text": [
      "Dime tu nombre:  Sergio\n",
      "Dime tu edad:  22\n"
     ]
    },
    {
     "name": "stdout",
     "output_type": "stream",
     "text": [
      "Te llamas Sergio\n",
      "Y tienes 22 años\n"
     ]
    }
   ],
   "source": []
  },
  {
   "attachments": {
    "245e85c7-4592-44bc-8691-b570a0852391.png": {
     "image/png": "[encoded data removed]"
    }
   },
   "cell_type": "markdown",
   "metadata": {
    "id": "eQHwXTigQwVl"
   },
   "source": [
    "## Lista\n",
    "\n",
    "![image.png](attachment:245e85c7-4592-44bc-8691-b570a0852391.png)\n",
    "\n",
    "\n",
    "**Las listas son contenedores que nos permiten guardar varios elementos juntos.**\n",
    "\n",
    "📌 Posiciones en una lista (índices)\n",
    "Cada elemento de una lista tiene una posición, que se llama índice. Y atención: en Python (y en casi todos los lenguajes de programación), la primera posición es el número 0.\n",
    "\n",
    "Pueden contener distintos tipos de datos\n",
    "Para acceder a un elemento concreto de la lista: lista[posición]\n"
   ]
  },
  {
   "cell_type": "code",
   "execution_count": null,
   "metadata": {
    "colab": {
     "base_uri": "https://localhost:8080/"
    },
    "id": "b54-6kyPQx5x",
    "outputId": "b72786d1-c3a6-4b68-8666-29e74e8d6f69"
   },
   "outputs": [
    {
     "name": "stdout",
     "output_type": "stream",
     "text": [
      "Sergio\n",
      "Carlota\n",
      "Tomeu\n"
     ]
    }
   ],
   "source": [
    "lista = [\"Sergio\",\"Carlota\",\"Ricardo\",\"Saray\"] #lista 4 nombres\n",
    "\n",
    "print(lista[0]) #Primer elemento\n",
    "print(lista[1]) #Segundo elemento\n",
    "print(lista[3]) #Cuarto elemento"
   ]
  },
  {
   "cell_type": "code",
   "execution_count": 12,
   "metadata": {},
   "outputs": [
    {
     "name": "stdout",
     "output_type": "stream",
     "text": [
      "[435, 'Silvia', False, 'Juan']\n",
      "[435, 0, False, 'Juan']\n"
     ]
    }
   ],
   "source": [
    "lista2 = [435,\"Silvia\",False,\"Juan\"] #lista con un entero(int),cadena(str),boleano(bool) y cadena(str)\n",
    "\n",
    "print(lista2)\n",
    "\n",
    "lista2[1] = 0\n",
    "\n",
    "print(lista2)\n",
    "\n"
   ]
  },
  {
   "cell_type": "markdown",
   "metadata": {},
   "source": [
    "Para **añadir** un elemento a una lista empleamos la función append: **lista.append(nuevo_elemento)**\n",
    "Para **eliminar** un elemento a una lista empleamos la función append: **lista.append(nuevo_elemento)**\n"
   ]
  },
  {
   "cell_type": "code",
   "execution_count": 13,
   "metadata": {},
   "outputs": [
    {
     "name": "stdout",
     "output_type": "stream",
     "text": [
      "[435, 0, False, 'Juan', 'Pepe']\n",
      "[435, 0, False, 'Juan']\n",
      "[435, False, 'Juan']\n",
      "['Marco', False, 'Juan']\n"
     ]
    }
   ],
   "source": [
    "lista2.append(\"Pepe\")\n",
    "\n",
    "print(lista2)\n",
    "\n",
    "lista2.pop()\n",
    "\n",
    "print(lista2)\n",
    "\n",
    "lista2.remove(0)\n",
    "\n",
    "print(lista2)\n",
    "\n",
    "lista2[0] = \"Marco\"\n",
    "\n",
    "print(lista2)"
   ]
  },
  {
   "cell_type": "markdown",
   "metadata": {
    "id": "uW4iaN2WTMYx"
   },
   "source": [
    "## Ejercio Mario Kart:\n",
    "\n",
    "Crear una lista vacia: list() y añadir los jugadores corredores. Tienes que meter 2 descalificados\n",
    "\n",
    "[\"Mario\", \"Luigi\", \"Bowser\", \"Descalificado1\", \"Peach\", \"Toad\", \"Yoshi\", \"Descalificado2\"]\n",
    "\n",
    "Debes expulsar o eliminar a los impostores usando los métodos remove() y pop()\n",
    "\n",
    "['Mario', 'Luigi', 'Bowser', 'Peach', 'Toad', 'Yoshi']"
   ]
  },
  {
   "cell_type": "code",
   "execution_count": 14,
   "metadata": {
    "colab": {
     "base_uri": "https://localhost:8080/"
    },
    "id": "m8LViCrJTl3V",
    "outputId": "21801adf-67bb-485e-e75f-a0eaff2e472c"
   },
   "outputs": [
    {
     "name": "stdout",
     "output_type": "stream",
     "text": [
      "['Mario', 'Luigi', 'Browser', 'Descalificado1', 'Peach', 'Toad', 'Yoshi', 'Descalificado2']\n",
      "['Mario', 'Luigi', 'Browser', 'Descalificado1', 'Peach', 'Toad', 'Yoshi']\n",
      "['Mario', 'Luigi', 'Browser', 'Peach', 'Toad', 'Yoshi']\n"
     ]
    }
   ],
   "source": []
  },
  {
   "cell_type": "markdown",
   "metadata": {
    "id": "SYO9u8adXa2u"
   },
   "source": [
    "## Condicionales if\n",
    "\n",
    "Los condicionales en programación  nos permiten tomar decisiones. Es decir, que el programa haga una cosa u otra dependiendo de una condición que se cumple o no.\n",
    "📌 Importante:\n",
    "- Siempre hay que usar dos puntos (:) después de if, elif y else.\n",
    "- El bloque de código que se ejecuta debe ir indentado (con tabulación o espacios).\n"
   ]
  },
  {
   "cell_type": "code",
   "execution_count": 15,
   "metadata": {
    "colab": {
     "base_uri": "https://localhost:8080/"
    },
    "id": "nZdglwijXcbv",
    "outputId": "fba50016-a69c-45c3-8a1f-14603a32ac83"
   },
   "outputs": [
    {
     "name": "stdout",
     "output_type": "stream",
     "text": [
      "dime un numero: 33\n",
      "dime otro numero: 22\n"
     ]
    },
    {
     "name": "stdout",
     "output_type": "stream",
     "text": [
      "33 es mayor que 22\n"
     ]
    }
   ],
   "source": [
    "a = input(\"dime un numero:\")\n",
    "b = input(\"dime otro numero:\")\n",
    "\n",
    "if a > b:\n",
    "  print(a+\" es mayor que \"+b)\n",
    "elif a == b:\n",
    "  print(a+\" es igual que \"+b)\n",
    "else:\n",
    "  print(a+\" es mayor que \"+b)\n"
   ]
  },
  {
   "cell_type": "code",
   "execution_count": 16,
   "metadata": {},
   "outputs": [
    {
     "name": "stdout",
     "output_type": "stream",
     "text": [
      "Dime un numero 118\n"
     ]
    },
    {
     "name": "stdout",
     "output_type": "stream",
     "text": [
      "118 es mayor que 20\n",
      "118 es mayor que 10\n"
     ]
    }
   ],
   "source": [
    "c = input(\"Dime un numero\")\n",
    "\n",
    "if int(c) > 10:\n",
    "    if int(c) > 20:\n",
    "        print(c + \" es mayor que 20\")\n",
    "    print(c + \" es mayor que 10\")"
   ]
  },
  {
   "cell_type": "markdown",
   "metadata": {
    "id": "HOcK-JHIY_bn"
   },
   "source": [
    "## Ejercicio Discoteca:\n",
    "\n",
    "Tenemos que pedir a los cliente la edad para dejarles pasar:\n",
    "\n",
    "Si tiene 18 o más años le permitmos pasar\n",
    "\n",
    "Si no le denegamos el acceso\n",
    "\n",
    "Recuerda al pedir la edad debes convertirla en int -> int(edad)"
   ]
  },
  {
   "cell_type": "code",
   "execution_count": 17,
   "metadata": {
    "colab": {
     "base_uri": "https://localhost:8080/"
    },
    "id": "dPFuuYP-Zbbe",
    "outputId": "15628b55-7660-4f27-9594-fe32133a82a9"
   },
   "outputs": [
    {
     "name": "stdout",
     "output_type": "stream",
     "text": [
      "Dime tu edad: 17\n"
     ]
    },
    {
     "name": "stdout",
     "output_type": "stream",
     "text": [
      "No puede pasar\n"
     ]
    }
   ],
   "source": []
  },
  {
   "cell_type": "markdown",
   "metadata": {
    "id": "f2Ervm_CbPPg"
   },
   "source": [
    "## While\n",
    "\n",
    "Un bucle es una parte del código que se repite mientras se cumpla una condición. Nos permite automatizar tareas sin tener que escribir lo mismo muchas veces.\n",
    "El bucle while nos permite repetir una acción mientras se cumpla la condición especificada"
   ]
  },
  {
   "cell_type": "code",
   "execution_count": 18,
   "metadata": {
    "colab": {
     "base_uri": "https://localhost:8080/"
    },
    "id": "MH9nCopibQof",
    "outputId": "6dd3eb42-194e-438e-d661-8200b4209fde"
   },
   "outputs": [
    {
     "name": "stdout",
     "output_type": "stream",
     "text": [
      "1\n",
      "2\n",
      "3\n",
      "4\n",
      "5\n",
      "6\n",
      "7\n",
      "8\n",
      "9\n",
      "10\n"
     ]
    }
   ],
   "source": [
    "numero = 1\n",
    "\n",
    "while numero <= 10:\n",
    "  print(numero)\n",
    "  numero += 1 # numero = numero + 1"
   ]
  },
  {
   "cell_type": "markdown",
   "metadata": {},
   "source": [
    "**⚠️ ¡Cuidado con los bucles infinitos!**\n",
    "Si te olvidas de aumentar el valor de a, el bucle nunca termina y el programa se queda colgado.\n",
    "\n",
    "❌ Esto es un bucle infinito:\n",
    "a = 10\n",
    "while a < 20:\n",
    "    print(a)\n",
    "Aquí nunca se suma 1, ¡así que se repite para siempre!"
   ]
  },
  {
   "cell_type": "code",
   "execution_count": null,
   "metadata": {},
   "outputs": [
    {
     "name": "stdout",
     "output_type": "stream",
     "text": [
      "1\n",
      "3\n",
      "5\n",
      "7\n",
      "9\n"
     ]
    }
   ],
   "source": [
    "numero = 1\n",
    "\n",
    "while numero <= 10:\n",
    "  if numero%2 != 0: # Condición que determina si un número es impar o no\n",
    "    print(numero)\n",
    "  numero += 1 # numero = numero + 1"
   ]
  },
  {
   "cell_type": "markdown",
   "metadata": {
    "id": "rYAVCc3xcQYk"
   },
   "source": [
    "## Ejercio Sumatorio:\n",
    "\n",
    "Sumar los números del 1 al 100\n"
   ]
  },
  {
   "cell_type": "code",
   "execution_count": 20,
   "metadata": {
    "colab": {
     "base_uri": "https://localhost:8080/"
    },
    "id": "dUNwlMnAcauT",
    "outputId": "0f814c71-8477-4991-ba59-52bc3e5cb041"
   },
   "outputs": [
    {
     "name": "stdout",
     "output_type": "stream",
     "text": [
      "5050\n"
     ]
    }
   ],
   "source": []
  },
  {
   "cell_type": "markdown",
   "metadata": {},
   "source": [
    "Si has conseguido sumar todos los números del 1 al 100, ahora suma solo los pares"
   ]
  },
  {
   "cell_type": "code",
   "execution_count": null,
   "metadata": {},
   "outputs": [],
   "source": []
  },
  {
   "cell_type": "markdown",
   "metadata": {
    "id": "DOtFNPXGea_w"
   },
   "source": [
    "## Bucles For\n",
    "El bucle for se utiliza cuando sabemos exactamente cuántas veces queremos repetir una acción. Es como contar con los dedos: sé cuántos pasos voy a dar\n"
   ]
  },
  {
   "cell_type": "code",
   "execution_count": 21,
   "metadata": {
    "colab": {
     "base_uri": "https://localhost:8080/"
    },
    "id": "jMnUAz9-eaPg",
    "outputId": "8a5aac48-b650-4f1f-9f07-98723a584d4d"
   },
   "outputs": [
    {
     "name": "stdout",
     "output_type": "stream",
     "text": [
      "5050\n"
     ]
    }
   ],
   "source": [
    "sumatorio = 0\n",
    "for numero in range(1,101):\n",
    "  sumatorio += numero # sumatorio = sumatorio + numero\n",
    "\n",
    "print(sumatorio)"
   ]
  },
  {
   "cell_type": "code",
   "execution_count": 22,
   "metadata": {},
   "outputs": [
    {
     "name": "stdout",
     "output_type": "stream",
     "text": [
      "1\n",
      "3\n",
      "5\n",
      "7\n",
      "9\n",
      "11\n",
      "13\n",
      "15\n",
      "17\n",
      "19\n",
      "21\n",
      "23\n",
      "25\n",
      "27\n",
      "29\n",
      "31\n",
      "33\n",
      "35\n",
      "37\n",
      "39\n",
      "41\n",
      "43\n",
      "45\n",
      "47\n",
      "49\n",
      "51\n",
      "53\n",
      "55\n",
      "57\n",
      "59\n",
      "61\n",
      "63\n",
      "65\n",
      "67\n",
      "69\n",
      "71\n",
      "73\n",
      "75\n",
      "77\n",
      "79\n",
      "81\n",
      "83\n",
      "85\n",
      "87\n",
      "89\n",
      "91\n",
      "93\n",
      "95\n",
      "97\n",
      "99\n"
     ]
    }
   ],
   "source": [
    "for numero in range(1,101,2):\n",
    "  print(numero)"
   ]
  },
  {
   "cell_type": "code",
   "execution_count": 23,
   "metadata": {},
   "outputs": [
    {
     "name": "stdout",
     "output_type": "stream",
     "text": [
      "2500\n"
     ]
    }
   ],
   "source": [
    "sumatorio = 0\n",
    "for numero in range(1,101,2):\n",
    "  sumatorio += numero # sumatorio = sumatorio + numero\n",
    "\n",
    "print(sumatorio)"
   ]
  },
  {
   "cell_type": "markdown",
   "metadata": {},
   "source": [
    "## Ejercicio Cuadrado\n",
    "\n",
    "Dibuja un cuadrado con * usando bucles for anidados\n",
    "\n",
    "PISTA: print de normal al terminar de imprimir hace un salto de linea, si quieres que eso no pase usa print(\"*\", end=\" \") y imprime el salto al final de cada linea con print()"
   ]
  },
  {
   "cell_type": "code",
   "execution_count": 27,
   "metadata": {},
   "outputs": [
    {
     "name": "stdout",
     "output_type": "stream",
     "text": [
      "* * * * * \n",
      "* * * * * \n",
      "* * * * * \n",
      "* * * * * \n",
      "* * * * * \n"
     ]
    }
   ],
   "source": []
  },
  {
   "cell_type": "markdown",
   "metadata": {},
   "source": [
    "🧠 ¿Qué pasa si cambiamos el 5 por una variable?"
   ]
  },
  {
   "cell_type": "code",
   "execution_count": null,
   "metadata": {},
   "outputs": [],
   "source": []
  },
  {
   "cell_type": "markdown",
   "metadata": {},
   "source": [
    "## ¿Qué es una función en Python?\n",
    "\n",
    "Una **función** es un bloque de código reutilizable que realiza una tarea específica.\n",
    "\n",
    "Las funciones permiten:\n",
    "- Evitar repetir código\n",
    "- Organizar mejor los programas\n",
    "- Hacer que el código sea más legible y mantenible\n",
    "\n",
    "### Sintaxis básica\n",
    "\n",
    "```python\n",
    "def nombre_de_la_funcion(parámetros):\n",
    "    # bloque de código\n",
    "    return resultado  # opcional\n"
   ]
  },
  {
   "cell_type": "code",
   "execution_count": 29,
   "metadata": {},
   "outputs": [
    {
     "name": "stdout",
     "output_type": "stream",
     "text": [
      "¡Hola! Este es un ejemplo de función sin parámetros.\n"
     ]
    }
   ],
   "source": [
    "# Definición de la función sin parámetros\n",
    "def mostrar_bienvenida():\n",
    "    print(\"¡Hola! Este es un ejemplo de función sin parámetros.\")\n",
    "\n",
    "# Llamada a la función\n",
    "mostrar_bienvenida()\n"
   ]
  },
  {
   "cell_type": "markdown",
   "metadata": {},
   "source": [
    "## Ejemplo de función en Python\n",
    "\n",
    "En este ejemplo definimos una función llamada `saludar_usuario` que recibe un nombre y devuelve un saludo personalizado.\n",
    "\n",
    "También veremos cómo llamar a la función pasando diferentes nombres."
   ]
  },
  {
   "cell_type": "code",
   "execution_count": 28,
   "metadata": {},
   "outputs": [
    {
     "name": "stdout",
     "output_type": "stream",
     "text": [
      "Hola, Laura. ¡Bienvenido al taller de Python!\n",
      "Hola, Andrés. ¡Bienvenido al taller de Python!\n"
     ]
    }
   ],
   "source": [
    "# Definición de la función\n",
    "def saludar_usuario(nombre):\n",
    "    saludo = f\"Hola, {nombre}. ¡Bienvenido al taller de Python!\"\n",
    "    return saludo\n",
    "\n",
    "# Llamadas a la función\n",
    "print(saludar_usuario(\"Laura\"))\n",
    "print(saludar_usuario(\"Andrés\"))\n"
   ]
  },
  {
   "attachments": {},
   "cell_type": "markdown",
   "metadata": {},
   "source": [
    "## Ejercicio Factorial\n",
    "\n",
    "El ejercicio consiste en aplicar todo lo aprendido para generar la función factorial.\n",
    "\n",
    "Ejemplo: \n",
    "factorial de 5: 5\\*4\\*3\\*2\\*1 = 120\n",
    "\n",
    "Extra: hacerlo sin usar bucles"
   ]
  },
  {
   "cell_type": "code",
   "execution_count": 30,
   "metadata": {},
   "outputs": [
    {
     "name": "stdout",
     "output_type": "stream",
     "text": [
      "Factorial iterativo de 5: 120\n"
     ]
    }
   ],
   "source": [
    "#Con bucles"
   ]
  },
  {
   "cell_type": "code",
   "execution_count": null,
   "metadata": {},
   "outputs": [],
   "source": [
    "#Sin bucles"
   ]
  }
 ],
 "metadata": {
  "colab": {
   "provenance": []
  },
  "kernelspec": {
   "display_name": "Python 3 (ipykernel)",
   "language": "python",
   "name": "python3"
  },
  "language_info": {
   "codemirror_mode": {
    "name": "ipython",
    "version": 3
   },
   "file_extension": ".py",
   "mimetype": "text/x-python",
   "name": "python",
   "nbconvert_exporter": "python",
   "pygments_lexer": "ipython3",
   "version": "3.10.16"
  }
 },
 "nbformat": 4,
 "nbformat_minor": 4
}
