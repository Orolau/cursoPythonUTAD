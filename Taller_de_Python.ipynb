{
  "cells": [
    {
      "cell_type": "markdown",
      "metadata": {
        "id": "TyPk3Hkk-Zgy"
      },
      "source": [
        "# Imprimir datos por pantalla\n",
        "Función print()"
      ]
    },
    {
      "cell_type": "code",
      "execution_count": 1,
      "metadata": {
        "colab": {
          "base_uri": "https://localhost:8080/"
        },
        "id": "36vdi2rBFbBu",
        "outputId": "c06720e8-51a2-4bc2-be8e-8ddfa5996dfb"
      },
      "outputs": [
        {
          "output_type": "stream",
          "name": "stdout",
          "text": [
            "Hola mundo\n"
          ]
        }
      ],
      "source": [
        "print(\"Hola mundo\")"
      ]
    },
    {
      "cell_type": "markdown",
      "metadata": {
        "id": "rVeAsd7yG8j3"
      },
      "source": [
        "# Variables\n",
        "Las variables son como cajas donde guardamos información. Sus valores pueden cambiar durante la ejecución del programa.\n",
        "Tipos:\n",
        "1. Enteros -> int\n",
        "2. Decimales -> float\n",
        "3. Cadenas de texto -> str\n",
        "4. Booleanos -> bool\n"
      ]
    },
    {
      "cell_type": "code",
      "execution_count": 2,
      "metadata": {
        "colab": {
          "base_uri": "https://localhost:8080/"
        },
        "id": "C0zRgnlNHGd2",
        "outputId": "56e2b06f-f656-4bb7-8d07-a92065d599f5"
      },
      "outputs": [
        {
          "output_type": "stream",
          "name": "stdout",
          "text": [
            "1\n"
          ]
        }
      ],
      "source": [
        "# Variables enteras\n",
        "\n",
        "variable = 1\n",
        "print(variable)\n"
      ]
    },
    {
      "cell_type": "code",
      "execution_count": 3,
      "metadata": {
        "id": "41ptgT1S-Zg0",
        "outputId": "b6adf10f-65d0-4012-fcf1-193453c8a47d",
        "colab": {
          "base_uri": "https://localhost:8080/"
        }
      },
      "outputs": [
        {
          "output_type": "stream",
          "name": "stdout",
          "text": [
            "Laura\n"
          ]
        }
      ],
      "source": [
        "variable2 = \"Laura\"\n",
        "print(variable2)"
      ]
    },
    {
      "cell_type": "code",
      "execution_count": 4,
      "metadata": {
        "id": "a43aftJB-Zg1",
        "outputId": "6d6db8fb-abf3-48f5-8533-ab4041214215",
        "colab": {
          "base_uri": "https://localhost:8080/"
        }
      },
      "outputs": [
        {
          "output_type": "stream",
          "name": "stdout",
          "text": [
            "Soy Laura Álvarez\n"
          ]
        }
      ],
      "source": [
        "miNombre = \"Laura\"\n",
        "miApellido = \"Álvarez\"\n",
        "\n",
        "print(\"Soy \"+miNombre+\" \"+miApellido)"
      ]
    },
    {
      "cell_type": "code",
      "execution_count": 5,
      "metadata": {
        "id": "BSXBG9D9-Zg1",
        "outputId": "19678265-5cbd-4352-db74-7c0f35887332",
        "colab": {
          "base_uri": "https://localhost:8080/"
        }
      },
      "outputs": [
        {
          "output_type": "stream",
          "name": "stdout",
          "text": [
            "33\n"
          ]
        }
      ],
      "source": [
        "numero = 33\n",
        "\n",
        "# NO FUNCIONA -> print(numero)\n",
        "\n",
        "print(str(numero))"
      ]
    },
    {
      "cell_type": "markdown",
      "metadata": {
        "id": "Mvl9-FOSJd8P"
      },
      "source": [
        "## Ejercicio 1 :\n",
        "\n",
        "Crear un ejemplo de presentacion:\n",
        "\n",
        "\"Mi nombre es: Laura\"\n",
        "\"Tengo 20 años\"\n",
        "\n",
        "crear una variable nombre = \"Laura\" y edad = 20"
      ]
    },
    {
      "cell_type": "code",
      "execution_count": null,
      "metadata": {
        "colab": {
          "base_uri": "https://localhost:8080/"
        },
        "id": "Sms4RAB6J8E5",
        "outputId": "59517b07-3cb6-47c1-e785-c9a50ac2134b"
      },
      "outputs": [
        {
          "name": "stdout",
          "output_type": "stream",
          "text": [
            "Mi nombre es: Sergio y tengo 21 años\n"
          ]
        }
      ],
      "source": []
    },
    {
      "cell_type": "markdown",
      "metadata": {
        "id": "AFwQTaa4MvmK"
      },
      "source": [
        "## Operadores"
      ]
    },
    {
      "cell_type": "markdown",
      "metadata": {
        "id": "pRgXVK2m-Zg2"
      },
      "source": [
        " ## Operadores comparación"
      ]
    },
    {
      "cell_type": "code",
      "execution_count": 6,
      "metadata": {
        "colab": {
          "base_uri": "https://localhost:8080/"
        },
        "id": "eT_9ZuZXMvOc",
        "outputId": "14f97a61-3f7b-47f7-9107-839543ed4bbc"
      },
      "outputs": [
        {
          "output_type": "stream",
          "name": "stdout",
          "text": [
            "False\n",
            "False\n",
            "True\n",
            "True\n",
            "False\n",
            "True\n"
          ]
        }
      ],
      "source": [
        "numero1 = 1\n",
        "numero2 = 5\n",
        "\n",
        "\n",
        "print(numero1 > numero2)\n",
        "print(numero1 >= numero2)\n",
        "print(numero1 < numero2)\n",
        "print(numero1 <= numero2)\n",
        "print(numero1 == numero2)\n",
        "print(numero1 != numero2)"
      ]
    },
    {
      "cell_type": "markdown",
      "metadata": {
        "id": "o1Itfv25-Zg2"
      },
      "source": [
        "## Operadores lógicos"
      ]
    },
    {
      "cell_type": "code",
      "execution_count": 8,
      "metadata": {
        "id": "zz-81Ctz-Zg2",
        "outputId": "721bb1bb-cc14-4376-d5fb-3778a3a83e68",
        "colab": {
          "base_uri": "https://localhost:8080/"
        }
      },
      "outputs": [
        {
          "output_type": "stream",
          "name": "stdout",
          "text": [
            "True\n",
            "False\n",
            "False\n",
            "False\n",
            "True\n",
            "True\n",
            "True\n",
            "False\n"
          ]
        }
      ],
      "source": [
        "verdadero = True\n",
        "falso = False\n",
        "\n",
        "#Operador 'and' o && --> equivale a 'y'\n",
        "print(verdadero and verdadero)\n",
        "print(verdadero and falso)\n",
        "print(falso and verdadero)\n",
        "print(falso and falso)\n",
        "\n",
        "#Operador 'or' o || --> equivale a 'o'\n",
        "print(verdadero or verdadero)\n",
        "print(verdadero or falso)\n",
        "print(falso or verdadero)\n",
        "print(falso or falso)"
      ]
    },
    {
      "cell_type": "markdown",
      "metadata": {
        "id": "iuxck52a-Zg2"
      },
      "source": [
        "## Operadores mátemáticos básicos"
      ]
    },
    {
      "cell_type": "code",
      "execution_count": 9,
      "metadata": {
        "id": "nKGXr9iB-Zg2",
        "outputId": "83482b6e-7897-4602-f33a-ca06952ef5d9",
        "colab": {
          "base_uri": "https://localhost:8080/"
        }
      },
      "outputs": [
        {
          "output_type": "stream",
          "name": "stdout",
          "text": [
            "6\n",
            "-4\n",
            "5\n",
            "0.2\n",
            "32\n",
            "1\n"
          ]
        }
      ],
      "source": [
        "numero1 = 1\n",
        "numero2 = 5\n",
        "numero3 = 2\n",
        "\n",
        "# Suma\n",
        "print(numero1 + numero2)\n",
        "\n",
        "# Resta\n",
        "print(numero1 - numero2)\n",
        "\n",
        "# Multiplicacion\n",
        "print(numero1 * numero2)\n",
        "\n",
        "#Division\n",
        "print(numero1 / numero2)\n",
        "\n",
        "# Potencia\n",
        "print(numero3 ** numero2)\n",
        "\n",
        "# Módulo --> es el resto de una división\n",
        "#   Por ejemplo: el módulo de 5 entre 2 es 1\n",
        "print(numero2 % numero3)"
      ]
    },
    {
      "cell_type": "markdown",
      "metadata": {
        "id": "9vlVkSIRNrli"
      },
      "source": [
        "## Input\n",
        "**Solicita datos al usuario de nuestro programa**\n",
        "Cuando el programa se encuentra con un input, muestra el mensaje especificado dentro de los paréntesis y se queda esperando a que el usuario introduzca sus datos y pulso 'Enter'"
      ]
    },
    {
      "cell_type": "code",
      "execution_count": 10,
      "metadata": {
        "colab": {
          "base_uri": "https://localhost:8080/"
        },
        "id": "oytfv6gzNstJ",
        "outputId": "fb898f3c-fbc4-44cd-97ea-bc55bff7d10f"
      },
      "outputs": [
        {
          "output_type": "stream",
          "name": "stdout",
          "text": [
            "Dime tu nombre:Laura\n",
            "Laura\n"
          ]
        }
      ],
      "source": [
        "nombre = input(\"Dime tu nombre:\")\n",
        "\n",
        "print(nombre)"
      ]
    },
    {
      "cell_type": "markdown",
      "metadata": {
        "id": "qC5f1jNDOxmg"
      },
      "source": [
        "## Ejercicio 2:\n",
        "\n",
        "Pedir el nombre y la edad al usuario y mostralo por la consola.\n",
        "\n",
        "\"Dime tu nombre:\" Laura\n",
        "\"Dime tu edad:\" 20\n",
        "\n",
        "\"Tu nombre es: Laura\"\n",
        "\"Y tienes 20 años\""
      ]
    },
    {
      "cell_type": "code",
      "execution_count": 11,
      "metadata": {
        "colab": {
          "base_uri": "https://localhost:8080/"
        },
        "id": "1JiSVs1EPGT3",
        "outputId": "25981f34-0573-42eb-f37e-9d2974225a89"
      },
      "outputs": [
        {
          "output_type": "stream",
          "name": "stdout",
          "text": [
            "Dime tu nombre:Laura\n",
            "Dime tu edad: 20\n",
            "Te llamas Laura y tienes 20 años\n"
          ]
        }
      ],
      "source": []
    },
    {
      "cell_type": "markdown",
      "metadata": {
        "id": "eQHwXTigQwVl"
      },
      "source": [
        "## Lista\n",
        "\n",
        "![image.png](attachment:245e85c7-4592-44bc-8691-b570a0852391.png)\n",
        "\n",
        "\n",
        "**Las listas son contenedores que nos permiten guardar varios elementos juntos.**\n",
        "\n",
        "📌 Posiciones en una lista (índices)\n",
        "Cada elemento de una lista tiene una posición, que se llama índice. Y atención: en Python (y en casi todos los lenguajes de programación), la primera posición es el número 0.\n",
        "\n",
        "Pueden contener distintos tipos de datos\n",
        "Para acceder a un elemento concreto de la lista: lista[posición]\n"
      ]
    },
    {
      "cell_type": "code",
      "execution_count": 12,
      "metadata": {
        "colab": {
          "base_uri": "https://localhost:8080/"
        },
        "id": "b54-6kyPQx5x",
        "outputId": "64c44084-afbf-4b7b-a82e-40e1654e0d39"
      },
      "outputs": [
        {
          "output_type": "stream",
          "name": "stdout",
          "text": [
            "Sergio\n",
            "Carlota\n",
            "Saray\n"
          ]
        }
      ],
      "source": [
        "lista = [\"Sergio\",\"Carlota\",\"Ricardo\",\"Saray\"] #lista 4 nombres\n",
        "\n",
        "print(lista[0]) #Primer elemento\n",
        "print(lista[1]) #Segundo elemento\n",
        "print(lista[3]) #Cuarto elemento"
      ]
    },
    {
      "cell_type": "code",
      "execution_count": 13,
      "metadata": {
        "id": "gtrMMp-D-Zg3",
        "outputId": "a220077c-3c75-4bf7-c555-4f9417b67075",
        "colab": {
          "base_uri": "https://localhost:8080/"
        }
      },
      "outputs": [
        {
          "output_type": "stream",
          "name": "stdout",
          "text": [
            "[435, 'Silvia', False, 'Juan']\n",
            "[435, 0, False, 'Juan']\n"
          ]
        }
      ],
      "source": [
        "lista2 = [435,\"Silvia\",False,\"Juan\"] #lista con un entero(int),cadena(str),boleano(bool) y cadena(str)\n",
        "\n",
        "print(lista2)\n",
        "\n",
        "lista2[1] = 0\n",
        "\n",
        "print(lista2)\n",
        "\n"
      ]
    },
    {
      "cell_type": "markdown",
      "metadata": {
        "id": "1erPs5Hv-Zg3"
      },
      "source": [
        "Para **añadir** un elemento a una lista empleamos la función append: **lista.append(nuevo_elemento)**\n",
        "Para **eliminar** un elemento a una lista empleamos la función append: **lista.append(nuevo_elemento)**\n"
      ]
    },
    {
      "cell_type": "code",
      "execution_count": 14,
      "metadata": {
        "id": "CCFnzWj2-Zg4",
        "outputId": "ab94c3f0-8a93-40b4-8a39-9a1a59d01458",
        "colab": {
          "base_uri": "https://localhost:8080/"
        }
      },
      "outputs": [
        {
          "output_type": "stream",
          "name": "stdout",
          "text": [
            "[435, 0, False, 'Juan', 'Pepe']\n",
            "[435, 0, False, 'Juan']\n",
            "[435, False, 'Juan']\n",
            "['Marco', False, 'Juan']\n"
          ]
        }
      ],
      "source": [
        "lista2.append(\"Pepe\")\n",
        "\n",
        "print(lista2)\n",
        "\n",
        "lista2.pop()\n",
        "\n",
        "print(lista2)\n",
        "\n",
        "lista2.remove(0)\n",
        "\n",
        "print(lista2)\n",
        "\n",
        "lista2[0] = \"Marco\"\n",
        "\n",
        "print(lista2)"
      ]
    },
    {
      "cell_type": "markdown",
      "metadata": {
        "id": "uW4iaN2WTMYx"
      },
      "source": [
        "## Ejercio Mario Kart:\n",
        "\n",
        "Crear una lista vacia: list() y añadir los jugadores corredores. Tienes que meter 2 descalificados\n",
        "\n",
        "[\"Mario\", \"Luigi\", \"Bowser\", \"Descalificado1\", \"Peach\", \"Toad\", \"Yoshi\", \"Descalificado2\"]\n",
        "\n",
        "Debes expulsar o eliminar a los impostores usando los métodos remove() y pop()\n",
        "\n",
        "['Mario', 'Luigi', 'Bowser', 'Peach', 'Toad', 'Yoshi']"
      ]
    },
    {
      "cell_type": "code",
      "execution_count": null,
      "metadata": {
        "colab": {
          "base_uri": "https://localhost:8080/"
        },
        "id": "m8LViCrJTl3V",
        "outputId": "21801adf-67bb-485e-e75f-a0eaff2e472c"
      },
      "outputs": [
        {
          "name": "stdout",
          "output_type": "stream",
          "text": [
            "['Mario', 'Luigi', 'Browser', 'Descalificado1', 'Peach', 'Toad', 'Yoshi', 'Descalificado2']\n",
            "['Mario', 'Luigi', 'Browser', 'Descalificado1', 'Peach', 'Toad', 'Yoshi']\n",
            "['Mario', 'Luigi', 'Browser', 'Peach', 'Toad', 'Yoshi']\n"
          ]
        }
      ],
      "source": []
    },
    {
      "cell_type": "markdown",
      "metadata": {
        "id": "SYO9u8adXa2u"
      },
      "source": [
        "## Condicionales if\n",
        "\n",
        "Los condicionales en programación  nos permiten tomar decisiones. Es decir, que el programa haga una cosa u otra dependiendo de una condición que se cumple o no.\n",
        "📌 Importante:\n",
        "- Siempre hay que usar dos puntos (:) después de if, elif y else.\n",
        "- El bloque de código que se ejecuta debe ir indentado (con tabulación o espacios).\n"
      ]
    },
    {
      "cell_type": "code",
      "execution_count": 15,
      "metadata": {
        "colab": {
          "base_uri": "https://localhost:8080/"
        },
        "id": "nZdglwijXcbv",
        "outputId": "14806a09-b91c-409d-840c-db9a9e98ebb8"
      },
      "outputs": [
        {
          "output_type": "stream",
          "name": "stdout",
          "text": [
            "dime un numero:33\n",
            "dime otro numero:5\n",
            "33 es mayor que 5\n"
          ]
        }
      ],
      "source": [
        "a = input(\"dime un numero:\")\n",
        "b = input(\"dime otro numero:\")\n",
        "\n",
        "if a > b:\n",
        "  print(a+\" es mayor que \"+b)\n",
        "elif a == b:\n",
        "  print(a+\" es igual que \"+b)\n",
        "else:\n",
        "  print(a+\" es mayor que \"+b)\n"
      ]
    },
    {
      "cell_type": "code",
      "execution_count": 16,
      "metadata": {
        "id": "5FaciSfe-Zg4",
        "outputId": "0ea9cfd4-ebd0-4f8e-ef00-e260f242d038",
        "colab": {
          "base_uri": "https://localhost:8080/"
        }
      },
      "outputs": [
        {
          "output_type": "stream",
          "name": "stdout",
          "text": [
            "Dime un numero118\n",
            "118 es mayor que 20\n",
            "118 es mayor que 10\n"
          ]
        }
      ],
      "source": [
        "c = input(\"Dime un numero\")\n",
        "\n",
        "if int(c) > 10:\n",
        "    if int(c) > 20:\n",
        "        print(c + \" es mayor que 20\")\n",
        "    print(c + \" es mayor que 10\")"
      ]
    },
    {
      "cell_type": "markdown",
      "metadata": {
        "id": "HOcK-JHIY_bn"
      },
      "source": [
        "## Ejercicio Discoteca:\n",
        "\n",
        "Tenemos que pedir a los cliente la edad para dejarles pasar:\n",
        "\n",
        "Si tiene 18 o más años le permitmos pasar\n",
        "\n",
        "Si no le denegamos el acceso\n",
        "\n",
        "Recuerda al pedir la edad debes convertirla en int -> int(edad)"
      ]
    },
    {
      "cell_type": "code",
      "execution_count": null,
      "metadata": {
        "colab": {
          "base_uri": "https://localhost:8080/"
        },
        "id": "dPFuuYP-Zbbe",
        "outputId": "15628b55-7660-4f27-9594-fe32133a82a9"
      },
      "outputs": [
        {
          "name": "stdout",
          "output_type": "stream",
          "text": [
            "Dime tu edad: 17\n"
          ]
        },
        {
          "name": "stdout",
          "output_type": "stream",
          "text": [
            "No puede pasar\n"
          ]
        }
      ],
      "source": []
    },
    {
      "cell_type": "markdown",
      "metadata": {
        "id": "f2Ervm_CbPPg"
      },
      "source": [
        "## While\n",
        "\n",
        "Un bucle es una parte del código que se repite mientras se cumpla una condición. Nos permite automatizar tareas sin tener que escribir lo mismo muchas veces.\n",
        "El bucle while nos permite repetir una acción mientras se cumpla la condición especificada"
      ]
    },
    {
      "cell_type": "code",
      "execution_count": 17,
      "metadata": {
        "colab": {
          "base_uri": "https://localhost:8080/"
        },
        "id": "MH9nCopibQof",
        "outputId": "876a0e03-2261-49b6-e14c-40e28512d7f0"
      },
      "outputs": [
        {
          "output_type": "stream",
          "name": "stdout",
          "text": [
            "1\n",
            "2\n",
            "3\n",
            "4\n",
            "5\n",
            "6\n",
            "7\n",
            "8\n",
            "9\n",
            "10\n"
          ]
        }
      ],
      "source": [
        "numero = 1\n",
        "\n",
        "while numero <= 10:\n",
        "  print(numero)\n",
        "  numero += 1 # numero = numero + 1"
      ]
    },
    {
      "cell_type": "markdown",
      "metadata": {
        "id": "-hv1kCwe-Zg5"
      },
      "source": [
        "**⚠️ ¡Cuidado con los bucles infinitos!**\n",
        "Si te olvidas de aumentar el valor de a, el bucle nunca termina y el programa se queda colgado.\n",
        "\n",
        "❌ Esto es un bucle infinito:\n",
        "a = 10\n",
        "while a < 20:\n",
        "    print(a)\n",
        "Aquí nunca se suma 1, ¡así que se repite para siempre!"
      ]
    },
    {
      "cell_type": "code",
      "execution_count": 18,
      "metadata": {
        "id": "DsVS6LF5-Zg5",
        "outputId": "d144b522-7b00-427e-92fe-e8f8d9075749",
        "colab": {
          "base_uri": "https://localhost:8080/"
        }
      },
      "outputs": [
        {
          "output_type": "stream",
          "name": "stdout",
          "text": [
            "1\n",
            "3\n",
            "5\n",
            "7\n",
            "9\n"
          ]
        }
      ],
      "source": [
        "numero = 1\n",
        "\n",
        "while numero <= 10:\n",
        "  if numero%2 != 0: # Condición que determina si un número es impar o no\n",
        "    print(numero)\n",
        "  numero += 1 # numero = numero + 1"
      ]
    },
    {
      "cell_type": "markdown",
      "metadata": {
        "id": "rYAVCc3xcQYk"
      },
      "source": [
        "## Ejercio Sumatorio:\n",
        "\n",
        "Sumar los números del 1 al 100\n"
      ]
    },
    {
      "cell_type": "code",
      "execution_count": null,
      "metadata": {
        "colab": {
          "base_uri": "https://localhost:8080/"
        },
        "id": "dUNwlMnAcauT",
        "outputId": "0f814c71-8477-4991-ba59-52bc3e5cb041"
      },
      "outputs": [
        {
          "name": "stdout",
          "output_type": "stream",
          "text": [
            "5050\n"
          ]
        }
      ],
      "source": []
    },
    {
      "cell_type": "markdown",
      "metadata": {
        "id": "R6qEBOz5-Zg5"
      },
      "source": [
        "Si has conseguido sumar todos los números del 1 al 100, ahora suma solo los pares"
      ]
    },
    {
      "cell_type": "code",
      "execution_count": null,
      "metadata": {
        "id": "61xLaurX-ZhB"
      },
      "outputs": [],
      "source": []
    },
    {
      "cell_type": "markdown",
      "metadata": {
        "id": "DOtFNPXGea_w"
      },
      "source": [
        "## Bucles For\n",
        "El bucle for se utiliza cuando sabemos exactamente cuántas veces queremos repetir una acción. Es como contar con los dedos: sé cuántos pasos voy a dar\n"
      ]
    },
    {
      "cell_type": "code",
      "execution_count": 19,
      "metadata": {
        "colab": {
          "base_uri": "https://localhost:8080/"
        },
        "id": "jMnUAz9-eaPg",
        "outputId": "2bb6878d-a294-496f-a914-287900fdc580"
      },
      "outputs": [
        {
          "output_type": "stream",
          "name": "stdout",
          "text": [
            "5050\n"
          ]
        }
      ],
      "source": [
        "sumatorio = 0\n",
        "for numero in range(1,101):\n",
        "  sumatorio += numero # sumatorio = sumatorio + numero\n",
        "\n",
        "print(sumatorio)"
      ]
    },
    {
      "cell_type": "code",
      "execution_count": 20,
      "metadata": {
        "id": "EoaMSgFH-ZhB",
        "outputId": "4e1fd908-fc3c-4fe8-ea2e-3aa6c20a829d",
        "colab": {
          "base_uri": "https://localhost:8080/"
        }
      },
      "outputs": [
        {
          "output_type": "stream",
          "name": "stdout",
          "text": [
            "1\n",
            "3\n",
            "5\n",
            "7\n",
            "9\n",
            "11\n",
            "13\n",
            "15\n",
            "17\n",
            "19\n",
            "21\n",
            "23\n",
            "25\n",
            "27\n",
            "29\n",
            "31\n",
            "33\n",
            "35\n",
            "37\n",
            "39\n",
            "41\n",
            "43\n",
            "45\n",
            "47\n",
            "49\n",
            "51\n",
            "53\n",
            "55\n",
            "57\n",
            "59\n",
            "61\n",
            "63\n",
            "65\n",
            "67\n",
            "69\n",
            "71\n",
            "73\n",
            "75\n",
            "77\n",
            "79\n",
            "81\n",
            "83\n",
            "85\n",
            "87\n",
            "89\n",
            "91\n",
            "93\n",
            "95\n",
            "97\n",
            "99\n"
          ]
        }
      ],
      "source": [
        "for numero in range(1,101,2):\n",
        "  print(numero)"
      ]
    },
    {
      "cell_type": "code",
      "execution_count": 21,
      "metadata": {
        "id": "PSUVerGW-ZhB",
        "outputId": "c21157dd-3499-488c-d82b-52cff6695d3a",
        "colab": {
          "base_uri": "https://localhost:8080/"
        }
      },
      "outputs": [
        {
          "output_type": "stream",
          "name": "stdout",
          "text": [
            "2500\n"
          ]
        }
      ],
      "source": [
        "sumatorio = 0\n",
        "for numero in range(1,101,2):\n",
        "  sumatorio += numero # sumatorio = sumatorio + numero\n",
        "\n",
        "print(sumatorio)"
      ]
    },
    {
      "cell_type": "markdown",
      "metadata": {
        "id": "8UnYnvxz-ZhB"
      },
      "source": [
        "## Ejercicio Cuadrado\n",
        "\n",
        "Dibuja un cuadrado con * usando bucles for anidados\n",
        "\n",
        "PISTA: print de normal al terminar de imprimir hace un salto de linea, si quieres que eso no pase usa print(\"*\", end=\" \") y imprime el salto al final de cada linea con print()"
      ]
    },
    {
      "cell_type": "code",
      "execution_count": null,
      "metadata": {
        "id": "441oDL-8-ZhB",
        "outputId": "a0ef09eb-9cc8-4eb3-e523-0614d0063636"
      },
      "outputs": [
        {
          "name": "stdout",
          "output_type": "stream",
          "text": [
            "* * * * * \n",
            "* * * * * \n",
            "* * * * * \n",
            "* * * * * \n",
            "* * * * * \n"
          ]
        }
      ],
      "source": []
    },
    {
      "cell_type": "markdown",
      "metadata": {
        "id": "xgOccGZQ-ZhB"
      },
      "source": [
        "🧠 ¿Qué pasa si cambiamos el 5 por una variable?"
      ]
    },
    {
      "cell_type": "code",
      "execution_count": null,
      "metadata": {
        "id": "O4m_j4Ca-ZhC"
      },
      "outputs": [],
      "source": []
    },
    {
      "cell_type": "markdown",
      "metadata": {
        "id": "N1CepELb-ZhC"
      },
      "source": [
        "## ¿Qué es una función en Python?\n",
        "\n",
        "Una **función** es un bloque de código reutilizable que realiza una tarea específica.\n",
        "\n",
        "Las funciones permiten:\n",
        "- Evitar repetir código\n",
        "- Organizar mejor los programas\n",
        "- Hacer que el código sea más legible y mantenible\n",
        "\n",
        "### Sintaxis básica\n",
        "\n",
        "```python\n",
        "def nombre_de_la_funcion(parámetros):\n",
        "    # bloque de código\n",
        "    return resultado  # opcional\n"
      ]
    },
    {
      "cell_type": "code",
      "execution_count": 22,
      "metadata": {
        "id": "3uNWvmKa-ZhC",
        "outputId": "112bb2c7-139b-4fb5-c090-8633368086e3",
        "colab": {
          "base_uri": "https://localhost:8080/"
        }
      },
      "outputs": [
        {
          "output_type": "stream",
          "name": "stdout",
          "text": [
            "¡Hola! Este es un ejemplo de función sin parámetros.\n"
          ]
        }
      ],
      "source": [
        "# Definición de la función sin parámetros\n",
        "def mostrar_bienvenida():\n",
        "    print(\"¡Hola! Este es un ejemplo de función sin parámetros.\")\n",
        "\n",
        "# Llamada a la función\n",
        "mostrar_bienvenida()\n"
      ]
    },
    {
      "cell_type": "markdown",
      "metadata": {
        "id": "xA_x4Zgv-ZhC"
      },
      "source": [
        "## Ejemplo de función en Python\n",
        "\n",
        "En este ejemplo definimos una función llamada `saludar_usuario` que recibe un nombre y devuelve un saludo personalizado.\n",
        "\n",
        "También veremos cómo llamar a la función pasando diferentes nombres."
      ]
    },
    {
      "cell_type": "code",
      "execution_count": 23,
      "metadata": {
        "id": "4Pdq7EtM-ZhC",
        "outputId": "63ba5ea8-b241-421a-e4c0-e6fdf4d946c2",
        "colab": {
          "base_uri": "https://localhost:8080/"
        }
      },
      "outputs": [
        {
          "output_type": "stream",
          "name": "stdout",
          "text": [
            "Hola, Laura. ¡Bienvenido al taller de Python!\n",
            "Hola, Andrés. ¡Bienvenido al taller de Python!\n"
          ]
        }
      ],
      "source": [
        "# Definición de la función\n",
        "def saludar_usuario(nombre):\n",
        "    saludo = f\"Hola, {nombre}. ¡Bienvenido al taller de Python!\"\n",
        "    return saludo\n",
        "\n",
        "# Llamadas a la función\n",
        "print(saludar_usuario(\"Laura\"))\n",
        "print(saludar_usuario(\"Andrés\"))\n"
      ]
    },
    {
      "cell_type": "markdown",
      "metadata": {
        "id": "vGwIyVj3-ZhC"
      },
      "source": [
        "## Ejercicio Factorial\n",
        "\n",
        "El ejercicio consiste en aplicar todo lo aprendido para generar la función factorial.\n",
        "\n",
        "Ejemplo:\n",
        "factorial de 5: 5\\*4\\*3\\*2\\*1 = 120\n",
        "\n",
        "Extra: hacerlo sin usar bucles"
      ]
    },
    {
      "cell_type": "code",
      "execution_count": null,
      "metadata": {
        "id": "3XCaG0FK-ZhC",
        "outputId": "f02f3871-44fe-488e-f4c7-2740bbd5d558"
      },
      "outputs": [
        {
          "name": "stdout",
          "output_type": "stream",
          "text": [
            "Factorial iterativo de 5: 120\n"
          ]
        }
      ],
      "source": [
        "#Con bucles"
      ]
    },
    {
      "cell_type": "code",
      "execution_count": null,
      "metadata": {
        "id": "bzLfdULn-ZhD"
      },
      "outputs": [],
      "source": [
        "#Sin bucles"
      ]
    }
  ],
  "metadata": {
    "colab": {
      "provenance": []
    },
    "kernelspec": {
      "display_name": "Python 3 (ipykernel)",
      "language": "python",
      "name": "python3"
    },
    "language_info": {
      "codemirror_mode": {
        "name": "ipython",
        "version": 3
      },
      "file_extension": ".py",
      "mimetype": "text/x-python",
      "name": "python",
      "nbconvert_exporter": "python",
      "pygments_lexer": "ipython3",
      "version": "3.10.16"
    }
  },
  "nbformat": 4,
  "nbformat_minor": 0
}